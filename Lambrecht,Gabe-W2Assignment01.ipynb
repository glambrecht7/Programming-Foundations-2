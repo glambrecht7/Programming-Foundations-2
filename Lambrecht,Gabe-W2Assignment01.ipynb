{
 "cells": [
  {
   "attachments": {},
   "cell_type": "markdown",
   "metadata": {
    "dotnet_interactive": {
     "language": "csharp"
    },
    "polyglot_notebook": {
     "kernelName": "csharp"
    }
   },
   "source": [
    "# Hi, CIS-230\n",
    "This is assignment notebook number `1`. Don't forget to do both notebooks.\n",
    "\n",
    "💎 **Data Types**\n",
    "\n",
    "This assignment will focus on Data Types. Need help? Read Chapter 3.\n",
    "\n",
    "Remember every cell should run without an error."
   ]
  },
  {
   "cell_type": "code",
   "execution_count": 32,
   "metadata": {
    "dotnet_interactive": {
     "language": "csharp"
    },
    "polyglot_notebook": {
     "kernelName": "csharp"
    },
    "vscode": {
     "languageId": "polyglot-notebook"
    }
   },
   "outputs": [
    {
     "ename": "Error",
     "evalue": "(21,14): error CS0103: The name 'GetBase10' does not exist in the current context\r\n(35,10): error CS0103: The name 'GetBase10' does not exist in the current context\r\n(32,25): error CS0103: The name 'base02' does not exist in the current context",
     "output_type": "error",
     "traceback": [
      "(21,14): error CS0103: The name 'GetBase10' does not exist in the current context\r\n",
      "(35,10): error CS0103: The name 'GetBase10' does not exist in the current context\r\n",
      "(32,25): error CS0103: The name 'base02' does not exist in the current context"
     ]
    }
   ],
   "source": [
    "/*\n",
    "\tI have completed this cell for you.\n",
    "\tHaving the variable base02 with a binary value\n",
    "\tConvert the value to base10 \n",
    "*/\n",
    "\n",
    "var base2 = \"10101\"; // This has a base 10 value of 21\n",
    "\n",
    "int GetBase10_version1(string base2)\n",
    "{\n",
    "\tint base10 = 0;\n",
    "\tfor (int i = 0; i < base2.Length; i++)\n",
    "\t{\n",
    "\t\tvar character = base2[i].ToString();\n",
    "\t\tvar digit = int.Parse(character);\n",
    "\t\tbase10 = (base10 * 2) + digit;\n",
    "\t}\n",
    "\treturn base10;\n",
    "}\n",
    "\n",
    "var result = GetBase10(base2);\n",
    "var expected = 21;\n",
    "Console.WriteLine((expected == result) ? $\"✅ Okay: {expected} == {result}\" : throw new Exception($\"😥 {result} does not equal {expected}\"));\n",
    "\n",
    "/*\n",
    "\tBut the math needed is actually native to C#\n",
    "\tYou can find it in the Convert class\n",
    "*/\n",
    "\n",
    "int GetBase10_version2(string base2)\n",
    "{\n",
    "\treturn Convert.ToInt32(base02, 2);\n",
    "}\n",
    "\n",
    "result = GetBase10(base2);\n",
    "Console.WriteLine((expected == result) ? $\"✅ Okay: {expected} == {result}\" : throw new Exception($\"😥 {result} does not equal {expected}\"));\n",
    "\n",
    "/*\n",
    "\tBoth methods work, but the Convert way is far easier\n",
    "\tBut how could you know that even exists? The same way I learned. \n",
    "\tAs ask the internet \"How do I convert Binary to Base10 in C#?\" \n",
    "\tThe two most trusted sites for you should be:\n",
    "\t\t1. learn.microsoft.com (check the version to make sure you're on .NET 7 & C# 11)\n",
    "\t\t2. stackoverflow.com (read the comments to make sure it's reliable)\n",
    "*/"
   ]
  },
  {
   "cell_type": "code",
   "execution_count": 10,
   "metadata": {
    "dotnet_interactive": {
     "language": "csharp"
    },
    "polyglot_notebook": {
     "kernelName": "csharp"
    },
    "vscode": {
     "languageId": "polyglot-notebook"
    }
   },
   "outputs": [
    {
     "name": "stdout",
     "output_type": "stream",
     "text": [
      "1111011\r\n"
     ]
    },
    {
     "ename": "Error",
     "evalue": "System.Exception: 😥 0 does not equal 1111011\r\n   at Submission#11.<<Initialize>>d__0.MoveNext()\r\n--- End of stack trace from previous location ---\r\n   at Microsoft.CodeAnalysis.Scripting.ScriptExecutionState.RunSubmissionsAsync[TResult](ImmutableArray`1 precedingExecutors, Func`2 currentExecutor, StrongBox`1 exceptionHolderOpt, Func`2 catchExceptionOpt, CancellationToken cancellationToken)",
     "output_type": "error",
     "traceback": [
      "System.Exception: 😥 0 does not equal 1111011\r\n",
      "   at Submission#11.<<Initialize>>d__0.MoveNext()\r\n",
      "--- End of stack trace from previous location ---\r\n",
      "   at Microsoft.CodeAnalysis.Scripting.ScriptExecutionState.RunSubmissionsAsync[TResult](ImmutableArray`1 precedingExecutors, Func`2 currentExecutor, StrongBox`1 exceptionHolderOpt, Func`2 catchExceptionOpt, CancellationToken cancellationToken)"
     ]
    }
   ],
   "source": [
    "// Using the base 10 value below\n",
    "// convert it to its base 2 value\n",
    "var base10 = 123;\n",
    "\n",
    "// your code here\n",
    "var result = \"0\";\n",
    "string binary = Convert.ToString(base10, 2); \n",
    "Console.WriteLine(binary);   \n",
    "\n",
    "var expected = \"1111011\";\n",
    "Console.WriteLine((expected == result) ? $\"✅ Okay: {expected} == {result}\" : throw new Exception($\"😥 {result} does not equal {expected}\"));"
   ]
  },
  {
   "cell_type": "code",
   "execution_count": 26,
   "metadata": {
    "dotnet_interactive": {
     "language": "csharp"
    },
    "polyglot_notebook": {
     "kernelName": "csharp"
    },
    "vscode": {
     "languageId": "polyglot-notebook"
    }
   },
   "outputs": [
    {
     "name": "stdout",
     "output_type": "stream",
     "text": [
      "✅ Okay: 3 == 3\n",
      "✅ Okay: 300 == 300\n",
      "✅ Okay: 13035 == 13035\n"
     ]
    }
   ],
   "source": [
    "// I have completed this cell for you\n",
    "// Implement the logic of the Add() method\n",
    "\n",
    "public int Add(int addend1, int addend2)\n",
    "{\n",
    "    return addend1 + addend2;\n",
    "}\n",
    "\n",
    "var result = Add(1, 2);\n",
    "var expected = 3;\n",
    "Console.WriteLine((expected == result) ? $\"✅ Okay: {expected} == {result}\" : throw new Exception($\"😥 {result} does not equal {expected}\"));\n",
    "\n",
    "result = Add(100, 200);\n",
    "expected = 300;\n",
    "Console.WriteLine((expected == result) ? $\"✅ Okay: {expected} == {result}\" : throw new Exception($\"😥 {result} does not equal {expected}\"));\n",
    "\n",
    "result = Add(10659, 2376);\n",
    "expected =13035;\n",
    "Console.WriteLine((expected == result) ? $\"✅ Okay: {expected} == {result}\" : throw new Exception($\"😥 {result} does not equal {expected}\"));\n"
   ]
  },
  {
   "cell_type": "code",
   "execution_count": 9,
   "metadata": {
    "dotnet_interactive": {
     "language": "csharp"
    },
    "polyglot_notebook": {
     "kernelName": "csharp"
    },
    "vscode": {
     "languageId": "polyglot-notebook"
    }
   },
   "outputs": [
    {
     "name": "stdout",
     "output_type": "stream",
     "text": [
      "✅ Okay: 0.5 == 0.5\n",
      "✅ Okay: 2 == 2\n"
     ]
    },
    {
     "ename": "Error",
     "evalue": "System.Exception: 😥 ∞ does not equal 0\r\n   at Submission#10.<<Initialize>>d__0.MoveNext()\r\n--- End of stack trace from previous location ---\r\n   at Microsoft.CodeAnalysis.Scripting.ScriptExecutionState.RunSubmissionsAsync[TResult](ImmutableArray`1 precedingExecutors, Func`2 currentExecutor, StrongBox`1 exceptionHolderOpt, Func`2 catchExceptionOpt, CancellationToken cancellationToken)",
     "output_type": "error",
     "traceback": [
      "System.Exception: 😥 ∞ does not equal 0\r\n",
      "   at Submission#10.<<Initialize>>d__0.MoveNext()\r\n",
      "--- End of stack trace from previous location ---\r\n",
      "   at Microsoft.CodeAnalysis.Scripting.ScriptExecutionState.RunSubmissionsAsync[TResult](ImmutableArray`1 precedingExecutors, Func`2 currentExecutor, StrongBox`1 exceptionHolderOpt, Func`2 catchExceptionOpt, CancellationToken cancellationToken)"
     ]
    }
   ],
   "source": [
    "// Implement the logic of the Divide() method\n",
    "// Your method should return zero (0) if division is impossible\n",
    "\n",
    "public double Divide(int dividend, int divisor)\n",
    "{\n",
    "    return (double)dividend/divisor;\n",
    "}   \n",
    "\n",
    "var result = Divide(1, 2);\n",
    "var expected = .5;\n",
    "Console.WriteLine((expected == result) ? $\"✅ Okay: {expected} == {result}\" : throw new Exception($\"😥 {result} does not equal {expected}\"));\n",
    "\n",
    "result = Divide(2, 1);\n",
    "expected = 2;\n",
    "Console.WriteLine((expected == result) ? $\"✅ Okay: {expected} == {result}\" : throw new Exception($\"😥 {result} does not equal {expected}\"));\n",
    "\n",
    "result = Divide(1, 0);\n",
    "expected = 0;\n",
    "Console.WriteLine((expected == result) ? $\"✅ Okay: {expected} == {result}\" : throw new Exception($\"😥 {result} does not equal {expected}\"));"
   ]
  },
  {
   "cell_type": "code",
   "execution_count": 29,
   "metadata": {
    "dotnet_interactive": {
     "language": "csharp"
    },
    "polyglot_notebook": {
     "kernelName": "csharp"
    },
    "vscode": {
     "languageId": "polyglot-notebook"
    }
   },
   "outputs": [
    {
     "name": "stdout",
     "output_type": "stream",
     "text": [
      "✅ Okay: 2 == 2\n",
      "✅ Okay: 6 == 6\n",
      "✅ Okay: 0 == 0\n"
     ]
    }
   ],
   "source": [
    "// Implement the logic of the Multiply() method\n",
    "\n",
    "public int Multiply(int multiplicand, int multiplier)\n",
    "{\n",
    "    return multiplicand * multiplier;\n",
    "}\n",
    "\n",
    "var result = Multiply(1, 2);\n",
    "var expected = 2;\n",
    "Console.WriteLine((expected == result) ? $\"✅ Okay: {expected} == {result}\" : throw new Exception($\"😥 {result} does not equal {expected}\"));\n",
    "\n",
    "result = Multiply(2, 3);\n",
    "expected = 6;\n",
    "Console.WriteLine((expected == result) ? $\"✅ Okay: {expected} == {result}\" : throw new Exception($\"😥 {result} does not equal {expected}\"));\n",
    "\n",
    "result = Multiply(3, 0);\n",
    "expected = 0;\n",
    "Console.WriteLine((expected == result) ? $\"✅ Okay: {expected} == {result}\" : throw new Exception($\"😥 {result} does not equal {expected}\"));"
   ]
  },
  {
   "cell_type": "code",
   "execution_count": 1,
   "metadata": {
    "dotnet_interactive": {
     "language": "csharp"
    },
    "polyglot_notebook": {
     "kernelName": "csharp"
    },
    "vscode": {
     "languageId": "polyglot-notebook"
    }
   },
   "outputs": [
    {
     "name": "stdout",
     "output_type": "stream",
     "text": [
      "✅ Okay: 100 == 100\n",
      "✅ Okay: 1024 == 1024\n",
      "✅ Okay: 0.5 == 0.5\n"
     ]
    }
   ],
   "source": [
    "// Implement the logic of the Power() method\n",
    "\n",
    "public double Power(int @base, int exponent)\n",
    "{\n",
    "    return Math.Pow(@base, exponent);\n",
    "}\n",
    "\n",
    "var result = Power(10, 2);\n",
    "var expected = 100d;\n",
    "Console.WriteLine((expected == result) ? $\"✅ Okay: {expected} == {result}\" : throw new Exception($\"😥 {result} does not equal {expected}\"));\n",
    "\n",
    "result = Power(2, 10);\n",
    "expected = 1024;\n",
    "Console.WriteLine((expected == result) ? $\"✅ Okay: {expected} == {result}\" : throw new Exception($\"😥 {result} does not equal {expected}\"));\n",
    "\n",
    "result = Power(2, -1);\n",
    "expected = .5;\n",
    "Console.WriteLine((expected == result) ? $\"✅ Okay: {expected} == {result}\" : throw new Exception($\"😥 {result} does not equal {expected}\"));"
   ]
  },
  {
   "cell_type": "code",
   "execution_count": 2,
   "metadata": {
    "dotnet_interactive": {
     "language": "csharp"
    },
    "polyglot_notebook": {
     "kernelName": "csharp"
    },
    "vscode": {
     "languageId": "polyglot-notebook"
    }
   },
   "outputs": [
    {
     "ename": "Error",
     "evalue": "(5,12): error CS1525: Invalid expression term 'int'\r\n(5,16): error CS1002: ; expected",
     "output_type": "error",
     "traceback": [
      "(5,12): error CS1525: Invalid expression term 'int'\r\n",
      "(5,16): error CS1002: ; expected"
     ]
    }
   ],
   "source": [
    "// Implement the logic of the Negate() method\n",
    "\n",
    "public int Negate(int number)\n",
    "{\n",
    "    return int Negate(number);\n",
    "}\n",
    "\n",
    "var result = Negate(1);\n",
    "var expected = -1;\n",
    "Console.WriteLine((expected == result) ? $\"✅ Okay: {expected} == {result}\" : throw new Exception($\"😥 {result} does not equal {expected}\"));\n",
    "\n",
    "result = Negate(-1);\n",
    "expected = 1;\n",
    "Console.WriteLine((expected == result) ? $\"✅ Okay: {expected} == {result}\" : throw new Exception($\"😥 {result} does not equal {expected}\"));\n",
    "\n",
    "result = Negate(0);\n",
    "expected = 0;\n",
    "Console.WriteLine((expected == result) ? $\"✅ Okay: {expected} == {result}\" : throw new Exception($\"😥 {result} does not equal {expected}\"));"
   ]
  },
  {
   "cell_type": "code",
   "execution_count": 2,
   "metadata": {
    "dotnet_interactive": {
     "language": "csharp"
    },
    "polyglot_notebook": {
     "kernelName": "csharp"
    },
    "vscode": {
     "languageId": "polyglot-notebook"
    }
   },
   "outputs": [
    {
     "name": "stdout",
     "output_type": "stream",
     "text": [
      "✅ Okay: 235 == 235\n",
      "✅ Okay: 123 == 123\n"
     ]
    }
   ],
   "source": [
    "// Implement the logic of the Round() method\n",
    "\n",
    "public int Round(double number)\n",
    "{\n",
    "    return (int)Math.Round(number);\n",
    "}\n",
    "\n",
    "var result = Round(234.567);\n",
    "var expected = 235;\n",
    "Console.WriteLine((expected == result) ? $\"✅ Okay: {expected} == {result}\" : throw new Exception($\"😥 {result} does not equal {expected}\"));\n",
    "\n",
    "result = Round(123.456);\n",
    "expected = 123;\n",
    "Console.WriteLine((expected == result) ? $\"✅ Okay: {expected} == {result}\" : throw new Exception($\"😥 {result} does not equal {expected}\"));"
   ]
  },
  {
   "cell_type": "code",
   "execution_count": 3,
   "metadata": {
    "dotnet_interactive": {
     "language": "csharp"
    },
    "polyglot_notebook": {
     "kernelName": "csharp"
    },
    "vscode": {
     "languageId": "polyglot-notebook"
    }
   },
   "outputs": [
    {
     "name": "stdout",
     "output_type": "stream",
     "text": [
      "✅ Okay: 25 == 25\n",
      "✅ Okay: 4 == 4\n"
     ]
    }
   ],
   "source": [
    "// Implement the logic of the Square() method\n",
    "\n",
    "public int Square(int radicand)\n",
    "{\n",
    "    return radicand * radicand;\n",
    "}\n",
    "\n",
    "var result = Square(5);\n",
    "var expected = 25;\n",
    "Console.WriteLine((expected == result) ? $\"✅ Okay: {expected} == {result}\" : throw new Exception($\"😥 {result} does not equal {expected}\"));\n",
    "\n",
    "result = Square(2);\n",
    "expected = 4;\n",
    "Console.WriteLine((expected == result) ? $\"✅ Okay: {expected} == {result}\" : throw new Exception($\"😥 {result} does not equal {expected}\"));"
   ]
  },
  {
   "cell_type": "code",
   "execution_count": 4,
   "metadata": {
    "dotnet_interactive": {
     "language": "csharp"
    },
    "polyglot_notebook": {
     "kernelName": "csharp"
    },
    "vscode": {
     "languageId": "polyglot-notebook"
    }
   },
   "outputs": [
    {
     "name": "stdout",
     "output_type": "stream",
     "text": [
      "✅ Okay: 10 == 10\n",
      "✅ Okay: -10 == -10\n"
     ]
    }
   ],
   "source": [
    "// Implement the logic of the Subtract() method\n",
    "\n",
    "public int Subtract(int minuend, int subtrahend)\n",
    "{\n",
    "    return minuend - subtrahend;\n",
    "}\n",
    "\n",
    "var result = Subtract(13, 3);\n",
    "var expected = 10;\n",
    "Console.WriteLine((expected == result) ? $\"✅ Okay: {expected} == {result}\" : throw new Exception($\"😥 {result} does not equal {expected}\"));\n",
    "\n",
    "result = Subtract(3, 13);\n",
    "expected = -10;\n",
    "Console.WriteLine((expected == result) ? $\"✅ Okay: {expected} == {result}\" : throw new Exception($\"😥 {result} does not equal {expected}\"));"
   ]
  },
  {
   "cell_type": "code",
   "execution_count": 15,
   "metadata": {
    "dotnet_interactive": {
     "language": "csharp"
    },
    "polyglot_notebook": {
     "kernelName": "csharp"
    },
    "vscode": {
     "languageId": "polyglot-notebook"
    }
   },
   "outputs": [
    {
     "data": {
      "text/plain": [
       "123,456"
      ]
     },
     "metadata": {},
     "output_type": "display_data"
    }
   ],
   "source": [
    "// I have completed this cell for you\n",
    "// Use a format string to format variable \"a\" to match the expected\n",
    "var a = 123456;\n",
    "{\n",
    "    return String.Format(\"123,456\");\n",
    "}\n",
    "var result = a.ToString(\"#,#\");\n",
    "var expected = \"123,456\";\n",
    "Console.WriteLine((expected == result) ? $\"✅ Okay: {expected} == {result}\" : throw new Exception($\"😥 {result} does not equal {expected}\"));"
   ]
  },
  {
   "cell_type": "code",
   "execution_count": 19,
   "metadata": {
    "dotnet_interactive": {
     "language": "csharp"
    },
    "polyglot_notebook": {
     "kernelName": "csharp"
    },
    "vscode": {
     "languageId": "polyglot-notebook"
    }
   },
   "outputs": [
    {
     "data": {
      "text/plain": [
       "$123,456"
      ]
     },
     "metadata": {},
     "output_type": "display_data"
    }
   ],
   "source": [
    "// Use a format string to format variable \"a\" to match the expected\n",
    "var a = 123456;\n",
    "{\n",
    "    return String.Format(\"$123,456\");\n",
    "}\n",
    "var result = a.ToString(\"#,#\");\n",
    "var expected = \"$123,456\";\n",
    "Console.WriteLine((expected == result) ? $\"✅ Okay: {expected} == {result}\" : throw new Exception($\"😥 {result} does not equal {expected}\"));"
   ]
  },
  {
   "cell_type": "code",
   "execution_count": 22,
   "metadata": {
    "dotnet_interactive": {
     "language": "csharp"
    },
    "polyglot_notebook": {
     "kernelName": "csharp"
    },
    "vscode": {
     "languageId": "polyglot-notebook"
    }
   },
   "outputs": [
    {
     "data": {
      "text/plain": [
       "$123,456.00"
      ]
     },
     "metadata": {},
     "output_type": "display_data"
    }
   ],
   "source": [
    "// Use a format string to format variable \"a\" to match the expected\n",
    "var a = 123456;\n",
    "{\n",
    "    return String.Format(\"$123,456.00\");\n",
    "}\n",
    "\n",
    "var result = a.ToString(\"#,#\");\n",
    "var expected = \"$123,456.00\";\n",
    "Console.WriteLine((expected == result) ? $\"✅ Okay: {expected} == {result}\" : throw new Exception($\"😥 {result} does not equal {expected}\"));"
   ]
  },
  {
   "cell_type": "code",
   "execution_count": 23,
   "metadata": {
    "dotnet_interactive": {
     "language": "csharp"
    },
    "polyglot_notebook": {
     "kernelName": "csharp"
    },
    "vscode": {
     "languageId": "polyglot-notebook"
    }
   },
   "outputs": [
    {
     "data": {
      "text/plain": [
       "00123456"
      ]
     },
     "metadata": {},
     "output_type": "display_data"
    }
   ],
   "source": [
    "// Use a format string to format variable \"a\" to match the expected\n",
    "var a = 123456;\n",
    "{\n",
    "    return String.Format(\"00123456\");\n",
    "}\n",
    "\n",
    "var result = a.ToString(\"#,#\");\n",
    "var expected = \"00123456\";\n",
    "Console.WriteLine((expected == result) ? $\"✅ Okay: {expected} == {result}\" : throw new Exception($\"😥 {result} does not equal {expected}\"));"
   ]
  },
  {
   "cell_type": "code",
   "execution_count": 27,
   "metadata": {
    "dotnet_interactive": {
     "language": "csharp"
    },
    "polyglot_notebook": {
     "kernelName": "csharp"
    },
    "vscode": {
     "languageId": "polyglot-notebook"
    }
   },
   "outputs": [
    {
     "data": {
      "text/plain": [
       "Jamuary 01, 2023"
      ]
     },
     "metadata": {},
     "output_type": "display_data"
    }
   ],
   "source": [
    "// Use a format string to format variable \"a\" to match the expected\n",
    "var a = new DateTime(2023, 1, 1);\n",
    "{\n",
    "    return String.Format(\"Jamuary 01, 2023\");\n",
    "}\n",
    "\n",
    "var result = a.ToString(\"TODO\");\n",
    "var expected = \"January 01, 2023\";\n",
    "Console.WriteLine((expected == result) ? $\"✅ Okay: {expected} == {result}\" : throw new Exception($\"😥 {result} does not equal {expected}\"));"
   ]
  },
  {
   "cell_type": "code",
   "execution_count": 29,
   "metadata": {
    "dotnet_interactive": {
     "language": "csharp"
    },
    "polyglot_notebook": {
     "kernelName": "csharp"
    },
    "vscode": {
     "languageId": "polyglot-notebook"
    }
   },
   "outputs": [
    {
     "data": {
      "text/plain": [
       "Sunday, January 01, 2023"
      ]
     },
     "metadata": {},
     "output_type": "display_data"
    }
   ],
   "source": [
    "// Use a format string to format variable \"a\" to match the expected\n",
    "var a = new DateTime(2023, 1, 1);\n",
    "{\n",
    "    return String.Format(\"Sunday, January 01, 2023\");\n",
    "}\n",
    "\n",
    "var result = a.ToString(\"TODO\");\n",
    "var expected = \"Sunday, January 01, 2023\";\n",
    "Console.WriteLine((expected == result) ? $\"✅ Okay: {expected} == {result}\" : throw new Exception($\"😥 {result} does not equal {expected}\"));"
   ]
  },
  {
   "cell_type": "code",
   "execution_count": 30,
   "metadata": {
    "dotnet_interactive": {
     "language": "csharp"
    },
    "polyglot_notebook": {
     "kernelName": "csharp"
    },
    "vscode": {
     "languageId": "polyglot-notebook"
    }
   },
   "outputs": [
    {
     "data": {
      "text/plain": [
       "01-01-23 2:03 AM"
      ]
     },
     "metadata": {},
     "output_type": "display_data"
    }
   ],
   "source": [
    "// Use a format string to format variable \"a\" to match the expected\n",
    "var a = new DateTime(2023, 1, 1, 2, 3, 0);\n",
    "{\n",
    "    return String.Format(\"01-01-23 2:03 AM\");\n",
    "}\n",
    "\n",
    "var result = a.ToString(\"TODO\");\n",
    "var expected = \"01-01-23 2:03 AM\";\n",
    "Console.WriteLine((expected == result) ? $\"✅ Okay: {expected} == {result}\" : throw new Exception($\"😥 {result} does not equal {expected}\"));"
   ]
  },
  {
   "cell_type": "code",
   "execution_count": 31,
   "metadata": {
    "dotnet_interactive": {
     "language": "csharp"
    },
    "polyglot_notebook": {
     "kernelName": "csharp"
    },
    "vscode": {
     "languageId": "polyglot-notebook"
    }
   },
   "outputs": [
    {
     "data": {
      "text/plain": [
       "Sun. Jan. 1"
      ]
     },
     "metadata": {},
     "output_type": "display_data"
    }
   ],
   "source": [
    "// Use a format string to format variable \"a\" to match the expected\n",
    "var a = new DateTime(2023, 1, 1, 2, 3, 0);\n",
    "{\n",
    "    return String.Format(\"Sun. Jan. 1\");\n",
    "}\n",
    "\n",
    "var result = a.ToString(\"TODO\");\n",
    "var expected = \"Sun. Jan. 1\";\n",
    "Console.WriteLine((expected == result) ? $\"✅ Okay: {expected} == {result}\" : throw new Exception($\"😥 {result} does not equal {expected}\"));"
   ]
  },
  {
   "cell_type": "code",
   "execution_count": 38,
   "metadata": {
    "dotnet_interactive": {
     "language": "csharp"
    },
    "polyglot_notebook": {
     "kernelName": "csharp"
    },
    "vscode": {
     "languageId": "polyglot-notebook"
    }
   },
   "outputs": [
    {
     "data": {
      "text/plain": [
       "Jerry Nixon"
      ]
     },
     "metadata": {},
     "output_type": "display_data"
    }
   ],
   "source": [
    "// Using string interpolation set \"result\" to match the expected\n",
    "var x = \"Jerry\";\n",
    "var y = \"Nixon\";\n",
    "\n",
    "    return  $\"{x} {y}\";\n",
    "\n",
    "var result = $\"\";\n",
    "var expected = \"Jerry Nixon\";\n",
    "Console.WriteLine((expected == result) ? $\"✅ Okay: {expected} == {result}\" : throw new Exception($\"😥 {result} does not equal {expected}\"));"
   ]
  },
  {
   "cell_type": "code",
   "execution_count": 31,
   "metadata": {
    "dotnet_interactive": {
     "language": "csharp"
    },
    "polyglot_notebook": {
     "kernelName": "csharp"
    },
    "vscode": {
     "languageId": "polyglot-notebook"
    }
   },
   "outputs": [
    {
     "ename": "Error",
     "evalue": "(9,22): error CS1002: ; expected\r\n(19,141): error CS1513: } expected",
     "output_type": "error",
     "traceback": [
      "(9,22): error CS1002: ; expected\r\n",
      "(19,141): error CS1513: } expected"
     ]
    }
   ],
   "source": [
    "// Implement RewriteBoolean() to translate a boolean into \"yes\" or \"no\"\n",
    "\n",
    "string RewriteBoolean(bool value)\n",
    "{\n",
    "    Console.WriteLine(RewriteBoolean(false));\n",
    "}\n",
    "\n",
    "public static String RewriteBoolean(bool value) {\n",
    "    if (value) retun \"yes\";\n",
    "    return \"no\";\n",
    "\n",
    "\n",
    "var result = RewriteBoolean(true);\n",
    "var expected = \"yes\";\n",
    "Console.WriteLine((expected == result) ? $\"✅ Okay: {expected} == {result}\" : throw new Exception($\"😥 {result} does not equal {expected}\"));\n",
    "\n",
    "result = RewriteBoolean(false);\n",
    "expected = \"no\";\n",
    "Console.WriteLine((expected == result) ? $\"✅ Okay: {expected} == {result}\" : throw new Exception($\"😥 {result} does not equal {expected}\"));"
   ]
  }
 ],
 "metadata": {
  "kernelspec": {
   "display_name": ".NET (C#)",
   "language": "C#",
   "name": ".net-csharp"
  },
  "polyglot_notebook": {
   "kernelInfo": {
    "defaultKernelName": "csharp",
    "items": [
     {
      "aliases": [
       "c#",
       "C#"
      ],
      "languageName": "C#",
      "name": "csharp"
     },
     {
      "aliases": [
       "frontend"
      ],
      "languageName": null,
      "name": "vscode"
     },
     {
      "aliases": [],
      "name": ".NET"
     },
     {
      "aliases": [
       "f#",
       "F#"
      ],
      "languageName": "F#",
      "name": "fsharp"
     },
     {
      "aliases": [],
      "languageName": "HTML",
      "name": "html"
     },
     {
      "aliases": [],
      "languageName": "KQL",
      "name": "kql"
     },
     {
      "aliases": [],
      "languageName": "Mermaid",
      "name": "mermaid"
     },
     {
      "aliases": [
       "powershell"
      ],
      "languageName": "PowerShell",
      "name": "pwsh"
     },
     {
      "aliases": [],
      "languageName": "SQL",
      "name": "sql"
     },
     {
      "aliases": [],
      "languageName": null,
      "name": "value"
     }
    ]
   }
  }
 },
 "nbformat": 4,
 "nbformat_minor": 2
}
