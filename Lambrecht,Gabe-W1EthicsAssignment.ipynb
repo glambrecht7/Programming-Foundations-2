{
 "cells": [
  {
   "cell_type": "code",
   "execution_count": null,
   "metadata": {},
   "outputs": [],
   "source": [
    "# Scenario\n",
    "# While working as an engineer at a Credit Card company, \n",
    "# you are tasked to resolve problems experienced by your employer’s second largest customer: \n",
    "# a well-known pornography web site. \n",
    "# Resolving their problems will not only reduce their frustration but should make them considerably more efficient and profitable. \n",
    "# What are three possible responses? \n",
    "# What do you do?\n",
    "\n",
    "# Response\n",
    "\n",
    "# Depending on the experience level and amount of time I have worked at this company, there are a few different options that would be ideal. \n",
    "# If I was new at this company and if I have had a hard time finding employment, it would be in my own personal best interest to do ask the boss says. \n",
    "# There will be a chance of termination if I were to decline his or her request for working on a site that directly impacts a company that does not align with my morals.\n",
    "\n",
    "# If I had more time in the work place to interact with co workers and to be completly transparent about my morals and faith,\n",
    "# I would feel more comfortable telling my boss that working on this assignment goes directly against what I believe and I do not want to support a large addiction and problem that a lot of people have.\n",
    "\n",
    "# However, if I was not in a desperate search for employment, I recognize Matthew 5:10-12\n",
    "# “Blessed are those who are persecuted because of righteousness, for theirs is the kingdom of heaven. Blessed are you when people insult you, persecute you and falsely say all kinds of evil against you because of me.\n",
    "# As a Christian, contributing to a pornography site goes agaist my belifs and I would have to deny my boss in helping contribute to something harmful to people.\n"
   ]
  }
 ],
 "metadata": {
  "language_info": {
   "name": "python"
  },
  "orig_nbformat": 4
 },
 "nbformat": 4,
 "nbformat_minor": 2
}
