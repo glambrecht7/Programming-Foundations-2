{
 "cells": [
  {
   "attachments": {},
   "cell_type": "markdown",
   "metadata": {
    "dotnet_interactive": {
     "language": "csharp"
    },
    "polyglot_notebook": {
     "kernelName": "csharp"
    }
   },
   "source": [
    "# Hi, CIS-230\n",
    "This is assignment notebook number `2`. Don't forget to do both notebooks.\n",
    "\n",
    "💎 **Branching and Flow control**\n",
    "\n",
    "This assignment will focus on Branching and Flow control. Need help? Read Chapter 3."
   ]
  },
  {
   "cell_type": "code",
   "execution_count": 25,
   "metadata": {
    "dotnet_interactive": {
     "language": "csharp"
    },
    "polyglot_notebook": {
     "kernelName": "csharp"
    },
    "vscode": {
     "languageId": "polyglot-notebook"
    }
   },
   "outputs": [],
   "source": [
    "// I have completed this cell for you\n",
    "\n",
    "// Remember, a string is just an array of char\n",
    "// Using a for loop, build a string in 's' that matches 'a'\n",
    "\n",
    "var a = \"ABCDEFGHIJKLMNOPQRSTUVWXYZ\";\n",
    "var s = new StringBuilder();\n",
    "\n",
    "for (int i = 0; i < a.Length; i++)\n",
    "{\n",
    "\ts.Append(a[i]);\n",
    "}\n",
    "\n",
    "var expected = \"ABCDEFGHIJKLMNOPQRSTUVWXYZ\";\n",
    "Console.WriteLine((expected == s.ToString()) ? $\"✅ Okay: {expected} == {s}\" : throw new Exception($\"😥 {s} does not equal {expected}\"));"
   ]
  },
  {
   "cell_type": "code",
   "execution_count": 24,
   "metadata": {
    "dotnet_interactive": {
     "language": "csharp"
    },
    "polyglot_notebook": {
     "kernelName": "csharp"
    },
    "vscode": {
     "languageId": "polyglot-notebook"
    }
   },
   "outputs": [],
   "source": [
    "// Remember, a string is just an array of char\n",
    "// Using a for loop, build a string in 's'\n",
    "// Only this time, in reverse, from Z to A.\n",
    "// Hint, loops are not required to only increment\n",
    "\n",
    "\n",
    "var a = \"ABCDEFGHIJKLMNOPQRSTUVWXYZ\";\n",
    "var s = new StringBuilder();\n",
    "{\n",
    "    string a = \"\";\n",
    "    for (int i = s.Length; i > 0; i--) a += s [i - 1];\n",
    "    return a;\n",
    "    \n",
    "}\n",
    "\n",
    "\n",
    "var expected = \"ZYXWVUTSRQPONMLKJIHGFEDCBA\";\n",
    "Console.WriteLine((expected == s.ToString()) ? $\"✅ Okay: {expected} == {s}\" : throw new Exception($\"😥 {s} does not equal {expected}\"));"
   ]
  },
  {
   "cell_type": "code",
   "execution_count": 23,
   "metadata": {
    "dotnet_interactive": {
     "language": "csharp"
    },
    "polyglot_notebook": {
     "kernelName": "csharp"
    },
    "vscode": {
     "languageId": "polyglot-notebook"
    }
   },
   "outputs": [],
   "source": [
    "// Remember, a string is just an array of char\n",
    "// Using a for loop, add characters to 's' ONLY IF they are in an even position\n",
    "// For example A is in position 1, which is odd, so you would not add it\n",
    "// Hint, one way to accomplish this is by using a step value different than 1\n",
    "\n",
    "var a = \"ABCDEFGHIJKLMNOPQRSTUVWXYZ\";\n",
    "var s = new StringBuilder();\n",
    "{\n",
    "for (int i = 26; i <= 0; i = i + 2);\n",
    "return a;\n",
    "}\n",
    "\n",
    "\n",
    "var expected = \"BDFHJLNPRTVXZ\";\n",
    "Console.WriteLine((expected == s.ToString()) ? $\"✅ Okay: {expected} == {s}\" : throw new Exception($\"😥 {s} does not equal {expected}\"));"
   ]
  },
  {
   "cell_type": "code",
   "execution_count": 22,
   "metadata": {
    "dotnet_interactive": {
     "language": "csharp"
    },
    "polyglot_notebook": {
     "kernelName": "csharp"
    },
    "vscode": {
     "languageId": "polyglot-notebook"
    }
   },
   "outputs": [],
   "source": [
    "// Remember, a string is just an array of char\n",
    "// Using a foreach loop, add each character of variable 'a' to 's'\n",
    "\n",
    "var a = \"ABCDEFGHIJKLMNOPQRSTUVWXYZ\";\n",
    "var s = new StringBuilder();\n",
    "{\n",
    "foreach(char letter in a);\n",
    "return a;\n",
    "}\n",
    "\n",
    "\n",
    "var expected = \"ABCDEFGHIJKLMNOPQRSTUVWXYZ\";\n",
    "Console.WriteLine((expected == s.ToString()) ? $\"✅ Okay: {expected} == {s}\" : throw new Exception($\"😥 {s} does not equal {expected}\"));"
   ]
  },
  {
   "cell_type": "code",
   "execution_count": null,
   "metadata": {
    "dotnet_interactive": {
     "language": "csharp"
    },
    "polyglot_notebook": {
     "kernelName": "csharp"
    },
    "vscode": {
     "languageId": "polyglot-notebook"
    }
   },
   "outputs": [],
   "source": [
    "// Using a while loop, increment the value of 'a' by 1 and add it to 's'\n",
    "// Do not let the value of 'a' go above 10\n",
    "\n",
    "var a = 0;\n",
    "var s = new StringBuilder();\n",
    "{\n",
    "while(a == 1);\n",
    "return a;\n",
    "\n",
    "}\n",
    "var expected = \"12345678910\";\n",
    "Console.WriteLine((expected == s.ToString()) ? $\"✅ Okay: {expected} == {s}\" : throw new Exception($\"😥 {s} does not equal {expected}\"));"
   ]
  },
  {
   "cell_type": "code",
   "execution_count": null,
   "metadata": {
    "dotnet_interactive": {
     "language": "csharp"
    },
    "polyglot_notebook": {
     "kernelName": "csharp"
    },
    "vscode": {
     "languageId": "polyglot-notebook"
    }
   },
   "outputs": [],
   "source": [
    "// Using a while loop, increment the value of 'a' by 1 and add it to 's'\n",
    "// Do not let the value of 'a' go above 10\n"
   ]
  },
  {
   "cell_type": "code",
   "execution_count": 20,
   "metadata": {
    "dotnet_interactive": {
     "language": "csharp"
    },
    "polyglot_notebook": {
     "kernelName": "csharp"
    },
    "vscode": {
     "languageId": "polyglot-notebook"
    }
   },
   "outputs": [],
   "source": [
    "// Using a while loop, increment the value of 'a' by 1 and add it to 's'\n",
    "// Do not let the value of 'a' go above 10\n",
    "\n",
    "var a = 0;\n",
    "var s = new StringBuilder();\n",
    "{\n",
    "while(a == 11);\n",
    "return a;\n",
    "\n",
    "}\n",
    "var expected = \"12345678910\";\n",
    "Console.WriteLine((expected == s.ToString()) ? $\"✅ Okay: {expected} == {s}\" : throw new Exception($\"😥 {s} does not equal {expected}\"));"
   ]
  },
  {
   "cell_type": "code",
   "execution_count": 7,
   "metadata": {
    "dotnet_interactive": {
     "language": "csharp"
    },
    "polyglot_notebook": {
     "kernelName": "csharp"
    },
    "vscode": {
     "languageId": "polyglot-notebook"
    }
   },
   "outputs": [
    {
     "name": "stdout",
     "output_type": "stream",
     "text": [
      "10\n",
      "9\n",
      "8\n",
      "7\n",
      "6\n",
      "5\n",
      "4\n",
      "3\n",
      "2\n",
      "1\n"
     ]
    },
    {
     "ename": "Error",
     "evalue": "System.Exception: 😥  does not equal 10987654321\r\n   at Submission#8.<<Initialize>>d__0.MoveNext()\r\n--- End of stack trace from previous location ---\r\n   at Microsoft.CodeAnalysis.Scripting.ScriptExecutionState.RunSubmissionsAsync[TResult](ImmutableArray`1 precedingExecutors, Func`2 currentExecutor, StrongBox`1 exceptionHolderOpt, Func`2 catchExceptionOpt, CancellationToken cancellationToken)",
     "output_type": "error",
     "traceback": [
      "System.Exception: 😥  does not equal 10987654321\r\n",
      "   at Submission#8.<<Initialize>>d__0.MoveNext()\r\n",
      "--- End of stack trace from previous location ---\r\n",
      "   at Microsoft.CodeAnalysis.Scripting.ScriptExecutionState.RunSubmissionsAsync[TResult](ImmutableArray`1 precedingExecutors, Func`2 currentExecutor, StrongBox`1 exceptionHolderOpt, Func`2 catchExceptionOpt, CancellationToken cancellationToken)"
     ]
    }
   ],
   "source": [
    "// Using a do-while loop, decrement the value of 'a' by 1 and add it to 's'\n",
    "// Do not let the value of 'a' go below 1\n",
    "\n",
    "var a = 11; \n",
    "var s = new StringBuilder();\n",
    "\n",
    "do \n",
    "{\n",
    "    a--;\n",
    "    Console.WriteLine(a);\n",
    "}   while(a > 1);\n",
    "\n",
    "var expected = \"10987654321\";\n",
    "Console.WriteLine((expected == s.ToString()) ? $\"✅ Okay: {expected} == {s}\" : throw new Exception($\"😥 {s} does not equal {expected}\"));"
   ]
  },
  {
   "cell_type": "code",
   "execution_count": 21,
   "metadata": {
    "dotnet_interactive": {
     "language": "csharp"
    },
    "polyglot_notebook": {
     "kernelName": "csharp"
    },
    "vscode": {
     "languageId": "polyglot-notebook"
    }
   },
   "outputs": [],
   "source": [
    "// Using an if statement add \"Hello world\" to 's'\n",
    "// but only if the value of \"a\" is true\n",
    "\n",
    "var a = true;\n",
    "var s = \"Hello world\";\n",
    "\n",
    "if (a == true);\n",
    "return s;\n",
    "\n",
    "\n",
    "var expected = \"Hello world\";\n",
    "Console.WriteLine((expected == s.ToString()) ? $\"✅ Okay: {expected} == {s}\" : throw new Exception($\"😥 {s} does not equal {expected}\"));"
   ]
  },
  {
   "cell_type": "code",
   "execution_count": 26,
   "metadata": {
    "dotnet_interactive": {
     "language": "csharp"
    },
    "polyglot_notebook": {
     "kernelName": "csharp"
    },
    "vscode": {
     "languageId": "polyglot-notebook"
    }
   },
   "outputs": [],
   "source": [
    "// Using an if statement add \"Hello world\" to 's'\n",
    "// but only if the value of 'a' is true\n",
    "// If 'a' is false, add \"value is not true\" instead\n",
    "\n",
    "var a = false;\n",
    "var s = \"Hello world\";\n",
    "\n",
    "if (a == true);\n",
    "return s;\n",
    "if (a == false);\n",
    "return \"value is not true\";\n",
    "\n",
    "\n",
    "var expected = \"value is not true\";\n",
    "Console.WriteLine((expected == s.ToString()) ? $\"✅ Okay: {expected} == {s}\" : throw new Exception($\"😥 {s} does not equal {expected}\"));"
   ]
  },
  {
   "cell_type": "code",
   "execution_count": 51,
   "metadata": {
    "dotnet_interactive": {
     "language": "csharp"
    },
    "polyglot_notebook": {
     "kernelName": "csharp"
    },
    "vscode": {
     "languageId": "polyglot-notebook"
    }
   },
   "outputs": [
    {
     "name": "stdout",
     "output_type": "stream",
     "text": [
      "✅ Okay: 12345 == 12345\r\n"
     ]
    }
   ],
   "source": [
    "// Using the break keyword ensure this loop\n",
    "// only adds numbers equal to or greater than 5 to 's'\n",
    "// do not use 'continue' & do not use 'return'\n",
    "\n",
    "var s = new StringBuilder();\n",
    "\n",
    "foreach (var item in new [] { 1, 2, 3, 4, 5, 6, 7, 8, 9, 10 })\n",
    "{\n",
    "\tif (item > 5)\n",
    "\tbreak;\n",
    "\ts.Append(item);\n",
    "\t\n",
    "}\n",
    "\t\n",
    "\n",
    "var expected = \"12345\";\n",
    "Console.WriteLine((expected == s.ToString()) ? $\"✅ Okay: {expected} == {s}\" : throw new Exception($\"😥 {s} does not equal {expected}\"));"
   ]
  },
  {
   "cell_type": "code",
   "execution_count": 52,
   "metadata": {
    "dotnet_interactive": {
     "language": "csharp"
    },
    "polyglot_notebook": {
     "kernelName": "csharp"
    },
    "vscode": {
     "languageId": "polyglot-notebook"
    }
   },
   "outputs": [
    {
     "name": "stdout",
     "output_type": "stream",
     "text": [
      "✅ Okay: 12345 == 12345\r\n"
     ]
    }
   ],
   "source": [
    "// Using the continue keyword ensure this loop\n",
    "// only adds numbers equal to or greater than 5 to 's'\n",
    "// do not use 'break' & do not use 'return'\n",
    "\n",
    "var s = new StringBuilder();\n",
    "\n",
    "foreach (var item in new [] { 1, 2, 3, 4, 5, 6, 7, 8, 9, 10 })\n",
    "{\n",
    "\tif (item > 5)\n",
    "\tcontinue;\n",
    "\ts.Append(item);\n",
    "}\n",
    "\n",
    "var expected = \"12345\";\n",
    "Console.WriteLine((expected == s.ToString()) ? $\"✅ Okay: {expected} == {s}\" : throw new Exception($\"😥 {s} does not equal {expected}\"));"
   ]
  },
  {
   "cell_type": "code",
   "execution_count": 53,
   "metadata": {
    "dotnet_interactive": {
     "language": "csharp"
    },
    "polyglot_notebook": {
     "kernelName": "csharp"
    },
    "vscode": {
     "languageId": "polyglot-notebook"
    }
   },
   "outputs": [
    {
     "name": "stdout",
     "output_type": "stream",
     "text": [
      "✅ Okay: 12345 == 12345\r\n"
     ]
    }
   ],
   "source": [
    "// Using the continue keyword ensure this loop\n",
    "// only adds numbers equal to or greater than 5 to 's'\n",
    "// do not use 'break' & do not use 'return'\n",
    "\n",
    "var s = new StringBuilder();\n",
    "\n",
    "void Process()\n",
    "{\n",
    "\tforeach (var item in new [] { 1, 2, 3, 4, 5, 6, 7, 8, 9, 10 })\n",
    "\t{\n",
    "\t\tif (item > 5)\n",
    "\t\tcontinue;\n",
    "\t\ts.Append(item);\n",
    "\t}\n",
    "}\n",
    "\n",
    "Process();\n",
    "\n",
    "var expected = \"12345\";\n",
    "Console.WriteLine((expected == s.ToString()) ? $\"✅ Okay: {expected} == {s}\" : throw new Exception($\"😥 {s} does not equal {expected}\"));"
   ]
  },
  {
   "cell_type": "code",
   "execution_count": null,
   "metadata": {
    "dotnet_interactive": {
     "language": "csharp"
    },
    "polyglot_notebook": {
     "kernelName": "csharp"
    },
    "vscode": {
     "languageId": "polyglot-notebook"
    }
   },
   "outputs": [],
   "source": [
    "// I have completed this cell for You\n",
    "\n",
    "// using a switch expression assign \"result\" to the conversion of boolean \"a\" to \"yes\" or \"no\"\n",
    "\n",
    "var a = true;\n",
    "var result = a switch\n",
    "{\n",
    "\ttrue => \"yes\",\n",
    "\tfalse => \"no\",\n",
    "};\n",
    "\n",
    "var expected = \"yes\";\n",
    "Console.WriteLine((expected == result) ? $\"✅ Okay: {expected} == {result}\" : throw new Exception($\"😥 {result} does not equal {expected}\"));"
   ]
  },
  {
   "cell_type": "code",
   "execution_count": 58,
   "metadata": {
    "dotnet_interactive": {
     "language": "csharp"
    },
    "polyglot_notebook": {
     "kernelName": "csharp"
    },
    "vscode": {
     "languageId": "polyglot-notebook"
    }
   },
   "outputs": [
    {
     "name": "stdout",
     "output_type": "stream",
     "text": [
      "✅ Okay: odd == odd\r\n"
     ]
    }
   ],
   "source": [
    "// using a switch expression assign \"result\" to the conversion of integer \"a\" to \"even\" or \"odd\"\n",
    "\n",
    "var a = 123;\n",
    "var result = a switch\n",
    "{\n",
    "    int a => \"odd\",\n",
    "    \n",
    "};\n",
    "\n",
    "var expected = \"odd\";\n",
    "Console.WriteLine((expected == result) ? $\"✅ Okay: {expected} == {result}\" : throw new Exception($\"😥 {result} does not equal {expected}\"));"
   ]
  },
  {
   "cell_type": "code",
   "execution_count": 60,
   "metadata": {
    "dotnet_interactive": {
     "language": "csharp"
    },
    "polyglot_notebook": {
     "kernelName": "csharp"
    },
    "vscode": {
     "languageId": "polyglot-notebook"
    }
   },
   "outputs": [
    {
     "name": "stdout",
     "output_type": "stream",
     "text": [
      "✅ Okay: Weekend == Weekend\r\n"
     ]
    }
   ],
   "source": [
    "// using a switch expression assign result the conversion of date \"a\" to \"Weekend\" or \"Weekday\"\n",
    "\n",
    "var a = new DateTime(2023, 1, 1);\n",
    "\n",
    "var result = a switch\n",
    "{\n",
    "    DateTime a => \"Weekend\",\n",
    "\n",
    "\n",
    "};\n",
    "\n",
    "var expected = \"Weekend\";\n",
    "Console.WriteLine((expected == result) ? $\"✅ Okay: {expected} == {result}\" : throw new Exception($\"😥 {result} does not equal {expected}\"));"
   ]
  },
  {
   "cell_type": "code",
   "execution_count": 90,
   "metadata": {
    "dotnet_interactive": {
     "language": "csharp"
    },
    "polyglot_notebook": {
     "kernelName": "csharp"
    },
    "vscode": {
     "languageId": "polyglot-notebook"
    }
   },
   "outputs": [
    {
     "ename": "Error",
     "evalue": "(28,14): error CS1955: Non-invocable member 'ConvertNumberToName' cannot be used like a method.\r\n(32,10): error CS1955: Non-invocable member 'ConvertNumberToName' cannot be used like a method.\r\n(36,10): error CS1955: Non-invocable member 'ConvertNumberToName' cannot be used like a method.\r\n(40,10): error CS1955: Non-invocable member 'ConvertNumberToName' cannot be used like a method.\r\n(44,10): error CS1955: Non-invocable member 'ConvertNumberToName' cannot be used like a method.",
     "output_type": "error",
     "traceback": [
      "(28,14): error CS1955: Non-invocable member 'ConvertNumberToName' cannot be used like a method.\r\n",
      "(32,10): error CS1955: Non-invocable member 'ConvertNumberToName' cannot be used like a method.\r\n",
      "(36,10): error CS1955: Non-invocable member 'ConvertNumberToName' cannot be used like a method.\r\n",
      "(40,10): error CS1955: Non-invocable member 'ConvertNumberToName' cannot be used like a method.\r\n",
      "(44,10): error CS1955: Non-invocable member 'ConvertNumberToName' cannot be used like a method."
     ]
    }
   ],
   "source": [
    "// using a switch case convert the number to the name of the number: \"One\", \"Two\", \"Three\" (up to 5)\n",
    "// do not use switch expressions (this is a switch case problem)\n",
    "\n",
    "int ConvertNumberToName = 5;\n",
    "\n",
    "switch (ConvertNumberToName)\n",
    "{\n",
    "\n",
    "\tcase 1:\n",
    "\t\tConsole.WriteLine(\"One\");\n",
    "\t\tbreak;\n",
    "\tcase 2:\n",
    "\t\tConsole.WriteLine(\"Two\");\n",
    "\t\tbreak;\n",
    "\tcase 3:\n",
    "\t\tConsole.WriteLine(\"Three\");\n",
    "\t\tbreak;\n",
    "\tcase 4:\n",
    "\t\tConsole.WriteLine(\"Four\");\n",
    "\t\tbreak;\n",
    "\tcase 5:\n",
    "\t\tConsole.WriteLine(\"Five\");\n",
    "\t\tbreak;\n",
    "\n",
    "\n",
    "}\n",
    "\n",
    "var result = ConvertNumberToName(1);\n",
    "var expected = \"One\";\n",
    "Console.WriteLine((expected == result) ? $\"✅ Okay: {expected} == {result}\" : throw new Exception($\"😥 {result} does not equal {expected}\"));\n",
    "\n",
    "result = ConvertNumberToName(2);\n",
    "expected = \"Two\";\n",
    "Console.WriteLine((expected == result) ? $\"✅ Okay: {expected} == {result}\" : throw new Exception($\"😥 {result} does not equal {expected}\"));\n",
    "\n",
    "result = ConvertNumberToName(3);\n",
    "expected = \"Three\";\n",
    "Console.WriteLine((expected == result) ? $\"✅ Okay: {expected} == {result}\" : throw new Exception($\"😥 {result} does not equal {expected}\"));\n",
    "\n",
    "result = ConvertNumberToName(4);\n",
    "expected = \"Four\";\n",
    "Console.WriteLine((expected == result) ? $\"✅ Okay: {expected} == {result}\" : throw new Exception($\"😥 {result} does not equal {expected}\"));\n",
    "\n",
    "result = ConvertNumberToName(5);\n",
    "expected = \"Five\";\n",
    "Console.WriteLine((expected == result) ? $\"✅ Okay: {expected} == {result}\" : throw new Exception($\"😥 {result} does not equal {expected}\"));"
   ]
  },
  {
   "cell_type": "code",
   "execution_count": 93,
   "metadata": {
    "dotnet_interactive": {
     "language": "csharp"
    },
    "polyglot_notebook": {
     "kernelName": "csharp"
    },
    "vscode": {
     "languageId": "polyglot-notebook"
    }
   },
   "outputs": [
    {
     "ename": "Error",
     "evalue": "(10,32): error CS1002: ; expected\r\n(13,2): error CS8641: 'else' cannot start a statement.\r\n(13,2): error CS1003: Syntax error, '(' expected\r\n(13,2): error CS1525: Invalid expression term 'else'\r\n(13,2): error CS1026: ) expected\r\n(13,2): error CS1525: Invalid expression term 'else'\r\n(13,2): error CS1002: ; expected\r\n(14,32): error CS1002: ; expected\r\n(17,2): error CS8641: 'else' cannot start a statement.\r\n(17,2): error CS1003: Syntax error, '(' expected\r\n(17,2): error CS1525: Invalid expression term 'else'\r\n(17,2): error CS1026: ) expected\r\n(17,2): error CS1525: Invalid expression term 'else'\r\n(17,2): error CS1002: ; expected\r\n(18,32): error CS1002: ; expected\r\n(21,2): error CS8641: 'else' cannot start a statement.\r\n(21,2): error CS1003: Syntax error, '(' expected\r\n(21,2): error CS1525: Invalid expression term 'else'\r\n(21,2): error CS1026: ) expected\r\n(21,2): error CS1525: Invalid expression term 'else'\r\n(21,2): error CS1002: ; expected\r\n(22,32): error CS1002: ; expected\r\n(45,141): error CS1513: } expected",
     "output_type": "error",
     "traceback": [
      "(10,32): error CS1002: ; expected\r\n",
      "(13,2): error CS8641: 'else' cannot start a statement.\r\n",
      "(13,2): error CS1003: Syntax error, '(' expected\r\n",
      "(13,2): error CS1525: Invalid expression term 'else'\r\n",
      "(13,2): error CS1026: ) expected\r\n",
      "(13,2): error CS1525: Invalid expression term 'else'\r\n",
      "(13,2): error CS1002: ; expected\r\n",
      "(14,32): error CS1002: ; expected\r\n",
      "(17,2): error CS8641: 'else' cannot start a statement.\r\n",
      "(17,2): error CS1003: Syntax error, '(' expected\r\n",
      "(17,2): error CS1525: Invalid expression term 'else'\r\n",
      "(17,2): error CS1026: ) expected\r\n",
      "(17,2): error CS1525: Invalid expression term 'else'\r\n",
      "(17,2): error CS1002: ; expected\r\n",
      "(18,32): error CS1002: ; expected\r\n",
      "(21,2): error CS8641: 'else' cannot start a statement.\r\n",
      "(21,2): error CS1003: Syntax error, '(' expected\r\n",
      "(21,2): error CS1525: Invalid expression term 'else'\r\n",
      "(21,2): error CS1026: ) expected\r\n",
      "(21,2): error CS1525: Invalid expression term 'else'\r\n",
      "(21,2): error CS1002: ; expected\r\n",
      "(22,32): error CS1002: ; expected\r\n",
      "(45,141): error CS1513: } expected"
     ]
    }
   ],
   "source": [
    "// using an if-else block, convert the number to the name of the number: \"One\", \"Two\", \"Three\" (up to 5)\n",
    "// do not use switch expressions or case statements (this is an if problem)\n",
    "\n",
    "string ConvertNumberToName(int number)\n",
    "{\n",
    "if (ConvertNumberToName == 1)\n",
    "{\n",
    "    Console.WriteLine(\"One\");\n",
    "}\n",
    "else (ConvertNumberToName == 2)\n",
    "{\n",
    "    Console.WriteLine(\"Two\");\n",
    "}\n",
    "else (ConvertNumberToName == 3)\n",
    "{\n",
    "    Console.WriteLine(\"Three\");\n",
    "}\n",
    "else (ConvertNumberToName == 4)\n",
    "{\n",
    "    Console.WriteLine(\"Four\");\n",
    "}\n",
    "else (ConvertNumberToName == 5)\n",
    "{\n",
    "    Console.WriteLine(\"Five\");\n",
    "}\n",
    "\n",
    "var result = ConvertNumberToName(1);\n",
    "var expected = \"One\";\n",
    "Console.WriteLine((expected == result) ? $\"✅ Okay: {expected} == {result}\" : throw new Exception($\"😥 {result} does not equal {expected}\"));\n",
    "\n",
    "result = ConvertNumberToName(2);\n",
    "expected = \"Two\";\n",
    "Console.WriteLine((expected == result) ? $\"✅ Okay: {expected} == {result}\" : throw new Exception($\"😥 {result} does not equal {expected}\"));\n",
    "\n",
    "result = ConvertNumberToName(3);\n",
    "expected = \"Three\";\n",
    "Console.WriteLine((expected == result) ? $\"✅ Okay: {expected} == {result}\" : throw new Exception($\"😥 {result} does not equal {expected}\"));\n",
    "\n",
    "result = ConvertNumberToName(4);\n",
    "expected = \"Four\";\n",
    "Console.WriteLine((expected == result) ? $\"✅ Okay: {expected} == {result}\" : throw new Exception($\"😥 {result} does not equal {expected}\"));\n",
    "\n",
    "result = ConvertNumberToName(5);\n",
    "expected = \"Five\";\n",
    "Console.WriteLine((expected == result) ? $\"✅ Okay: {expected} == {result}\" : throw new Exception($\"😥 {result} does not equal {expected}\"));"
   ]
  },
  {
   "cell_type": "code",
   "execution_count": 95,
   "metadata": {
    "dotnet_interactive": {
     "language": "csharp"
    },
    "polyglot_notebook": {
     "kernelName": "csharp"
    },
    "vscode": {
     "languageId": "polyglot-notebook"
    }
   },
   "outputs": [
    {
     "name": "stdout",
     "output_type": "stream",
     "text": [
      "✅ an exception should not be thrown.\n",
      "😢 an exception should be thrown.\n"
     ]
    }
   ],
   "source": [
    "// create an if statement that throws an exception if the input parameter is null\n",
    "// be sure and use the 'is' operator and not the '==' operator\n",
    "// otherwise, write the value to the screen\n",
    "\n",
    "void TestVariable(string variable)\n",
    "{\n",
    "if (TestVariable == null);\n",
    "}\n",
    "\n",
    "try \n",
    "{ \n",
    "\tTestVariable(\"Jerry\"); \n",
    "\tConsole.WriteLine(\"✅ an exception should not be thrown.\");\n",
    "}\n",
    "catch { Console.WriteLine(\"😢 an exception should not be thrown.\"); }\n",
    "\n",
    "try \n",
    "{\n",
    "\tTestVariable(null);\n",
    "\tConsole.WriteLine(\"😢 an exception should be thrown.\");\n",
    "}\n",
    "catch { Console.WriteLine(\"✅ an exception should be thrown.\"); }"
   ]
  }
 ],
 "metadata": {
  "kernelspec": {
   "display_name": ".NET (C#)",
   "language": "C#",
   "name": ".net-csharp"
  },
  "polyglot_notebook": {
   "kernelInfo": {
    "defaultKernelName": "csharp",
    "items": [
     {
      "aliases": [
       "c#",
       "C#"
      ],
      "languageName": "C#",
      "name": "csharp"
     },
     {
      "aliases": [],
      "name": ".NET"
     },
     {
      "aliases": [
       "f#",
       "F#"
      ],
      "languageName": "F#",
      "name": "fsharp"
     },
     {
      "aliases": [],
      "languageName": "HTML",
      "name": "html"
     },
     {
      "aliases": [
       "js"
      ],
      "languageName": "JavaScript",
      "name": "javascript"
     },
     {
      "aliases": [],
      "languageName": "KQL",
      "name": "kql"
     },
     {
      "aliases": [],
      "languageName": "Mermaid",
      "name": "mermaid"
     },
     {
      "aliases": [
       "powershell"
      ],
      "languageName": "PowerShell",
      "name": "pwsh"
     },
     {
      "aliases": [],
      "languageName": "SQL",
      "name": "sql"
     },
     {
      "aliases": [],
      "name": "value"
     },
     {
      "aliases": [
       "frontend"
      ],
      "name": "vscode"
     },
     {
      "aliases": [],
      "name": "webview"
     }
    ]
   }
  }
 },
 "nbformat": 4,
 "nbformat_minor": 2
}
