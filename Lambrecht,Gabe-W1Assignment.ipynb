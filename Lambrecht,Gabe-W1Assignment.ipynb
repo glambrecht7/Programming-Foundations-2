{
 "cells": [
  {
   "attachments": {},
   "cell_type": "markdown",
   "metadata": {
    "dotnet_interactive": {
     "language": "csharp"
    },
    "polyglot_notebook": {
     "kernelName": "csharp"
    }
   },
   "source": [
    "# Week 01 Assignment\n",
    "\n",
    "Comments in C# are any line starting the `//`. You use them to communicate to other developers and even yourself, usually to explain your code. In the cells below, I will add comments of the C# code I want you to write. Every single cell you write should run without an error and complete the comment. \n",
    "\n",
    "For example, you might see.\n",
    "\n",
    "````csharp\n",
    "// create a variable with an implicit type\n",
    "// assign your name to the variable\n",
    "````\n",
    "\n",
    "You should update the cell like this:\n",
    "\n",
    "````csharp\n",
    "// create a variable with an implicit type\n",
    "// assign your name to the variable\n",
    "string x = \"Jerry\";\n",
    "Console.Write(x);\n",
    "````\n",
    "\n",
    "### Always output\n",
    "\n",
    "Don't do this:\n",
    "\n",
    "````csharp\n",
    "// create a variable with an implicit type\n",
    "// assign your name to the variable\n",
    "string x = \"Jerry\";\n",
    "````\n",
    "\n",
    "Always do this:\n",
    "\n",
    "\n",
    "````csharp\n",
    "// create a variable with an implicit type\n",
    "// assign your name to the variable\n",
    "string x = \"Jerry\";\n",
    "Console.Write(x);\n",
    "````\n"
   ]
  },
  {
   "cell_type": "code",
   "execution_count": 1,
   "metadata": {
    "dotnet_interactive": {
     "language": "csharp"
    },
    "polyglot_notebook": {
     "kernelName": "csharp"
    },
    "vscode": {
     "languageId": "polyglot-notebook"
    }
   },
   "outputs": [
    {
     "name": "stdout",
     "output_type": "stream",
     "text": [
      "Gabe Lambrecht"
     ]
    }
   ],
   "source": [
    "// create a variable with an explicit type\n",
    "// assign your name to the variable\n",
    "\n",
    "string x = \"Gabe Lambrecht\";\n",
    "Console.Write(x);"
   ]
  },
  {
   "cell_type": "code",
   "execution_count": 2,
   "metadata": {
    "dotnet_interactive": {
     "language": "csharp"
    },
    "polyglot_notebook": {
     "kernelName": "csharp"
    },
    "vscode": {
     "languageId": "polyglot-notebook"
    }
   },
   "outputs": [
    {
     "name": "stdout",
     "output_type": "stream",
     "text": [
      "Gabe Lambrecht"
     ]
    }
   ],
   "source": [
    "// create a variable with an implicit type\n",
    "// set the value of the variable to your name\n",
    "// set the value on the same name as the declaration\n",
    "\n",
    "var name = \"Gabe Lambrecht\";\n",
    "Console.Write(name)\n"
   ]
  },
  {
   "cell_type": "code",
   "execution_count": 32,
   "metadata": {
    "dotnet_interactive": {
     "language": "csharp"
    },
    "polyglot_notebook": {
     "kernelName": "csharp"
    },
    "vscode": {
     "languageId": "polyglot-notebook"
    }
   },
   "outputs": [
    {
     "name": "stdout",
     "output_type": "stream",
     "text": [
      "Gabe Lambrecht"
     ]
    }
   ],
   "source": [
    "// create a variable with an implicit type\n",
    "// set the value of the variable to your name\n",
    "// set the value on a different line from the declaration\n",
    "\n",
    "var x = y;\n",
    "y = \"Gabe Lambrecht\";\n",
    "Console.Write(y);\n"
   ]
  },
  {
   "cell_type": "code",
   "execution_count": 33,
   "metadata": {
    "dotnet_interactive": {
     "language": "csharp"
    },
    "polyglot_notebook": {
     "kernelName": "csharp"
    },
    "vscode": {
     "languageId": "polyglot-notebook"
    }
   },
   "outputs": [
    {
     "name": "stdout",
     "output_type": "stream",
     "text": [
      "Gabe Lambrecht"
     ]
    }
   ],
   "source": [
    "// create two variables (x and y)\n",
    "// assign your name to variable x\n",
    "// assign the value of variable x to variable y\n",
    "\n",
    "var x = \"Gabe Lambrecht\";\n",
    "var y = x;\n",
    "Console.Write(y);"
   ]
  },
  {
   "cell_type": "code",
   "execution_count": 34,
   "metadata": {
    "dotnet_interactive": {
     "language": "csharp"
    },
    "polyglot_notebook": {
     "kernelName": "csharp"
    },
    "vscode": {
     "languageId": "polyglot-notebook"
    }
   },
   "outputs": [
    {
     "name": "stdout",
     "output_type": "stream",
     "text": [
      "Gabe Lambrecht"
     ]
    }
   ],
   "source": [
    "// create two variables (x and y)\n",
    "// assign your first name to x and your last name to y\n",
    "// create a third variable (z)\n",
    "// assign the concatenated value of x + y to z\n",
    "\n",
    "string x = \"Gabe\";\n",
    "string y = \" Lambrecht\";\n",
    "string z = (x  +  y);\n",
    "Console.Write(z);"
   ]
  },
  {
   "cell_type": "code",
   "execution_count": 35,
   "metadata": {
    "dotnet_interactive": {
     "language": "csharp"
    },
    "polyglot_notebook": {
     "kernelName": "csharp"
    },
    "vscode": {
     "languageId": "polyglot-notebook"
    }
   },
   "outputs": [
    {
     "name": "stdout",
     "output_type": "stream",
     "text": [
      "Jerry\r\n"
     ]
    }
   ],
   "source": [
    "// this is a code sample you will explain later\n",
    "using System;\n",
    "\n",
    "public class Program\n",
    "{\n",
    "  public void Main(string[] args)\n",
    "  {\n",
    "    var x = \"Jerry\";\n",
    "    Console.WriteLine(x);\n",
    "  }\n",
    "}\n",
    "\n",
    "new Program().Main(default);"
   ]
  },
  {
   "attachments": {},
   "cell_type": "markdown",
   "metadata": {
    "dotnet_interactive": {
     "language": "csharp"
    },
    "polyglot_notebook": {
     "kernelName": "csharp"
    }
   },
   "source": [
    "## This cell has questions. Answer them in the next cell.\n",
    "\n",
    "These questions are related to code sample in the previous cell\n",
    "\n",
    "1. `line 1` is a comment. What two characters to you add to any line to make it a comment?\n",
    "1. `line 2` is a using directive. What namespace is being brought into scope?\n",
    "1. `line 4` is the class signature. What is the name of the class?\n",
    "1. `line 5` defines what about the class?\n",
    "1. `line 6` is the method signature. What is the return type of the method?\n",
    "1. `line 7` defines the what about the method?\n",
    "1. `lines 8 & 9` together are referred to as the what?\n",
    "1. `line 8` declares and assigns a variable. What is the assignment value?\n",
    "1. `line 9` calls the method WriteLine(). In what class is WriteLine() found?\n",
    "1. `line 9` passes x into into the method WriteLine(). In this context, what is x called?"
   ]
  },
  {
   "cell_type": "code",
   "execution_count": 36,
   "metadata": {
    "dotnet_interactive": {
     "language": "csharp"
    },
    "polyglot_notebook": {
     "kernelName": "csharp"
    },
    "vscode": {
     "languageId": "polyglot-notebook"
    }
   },
   "outputs": [
    {
     "ename": "Error",
     "evalue": "(1,1): error CS1024: Preprocessor directive expected\r\n(3,4): error CS1001: Identifier expected\r\n(3,6): error CS1002: ; expected\r\n(4,4): error CS1001: Identifier expected\r\n(4,6): error CS1002: ; expected\r\n(5,4): error CS1001: Identifier expected\r\n(5,6): error CS1002: ; expected\r\n(6,4): error CS1001: Identifier expected\r\n(6,6): error CS1002: ; expected\r\n(7,4): error CS1001: Identifier expected\r\n(7,6): error CS1002: ; expected\r\n(8,4): error CS1001: Identifier expected\r\n(8,6): error CS1002: ; expected\r\n(9,4): error CS1001: Identifier expected\r\n(9,6): error CS1002: ; expected\r\n(10,4): error CS1001: Identifier expected\r\n(10,6): error CS1002: ; expected\r\n(11,4): error CS1001: Identifier expected\r\n(11,6): error CS1002: ; expected\r\n(12,5): error CS1001: Identifier expected",
     "output_type": "error",
     "traceback": [
      "(1,1): error CS1024: Preprocessor directive expected\r\n",
      "(3,4): error CS1001: Identifier expected\r\n",
      "(3,6): error CS1002: ; expected\r\n",
      "(4,4): error CS1001: Identifier expected\r\n",
      "(4,6): error CS1002: ; expected\r\n",
      "(5,4): error CS1001: Identifier expected\r\n",
      "(5,6): error CS1002: ; expected\r\n",
      "(6,4): error CS1001: Identifier expected\r\n",
      "(6,6): error CS1002: ; expected\r\n",
      "(7,4): error CS1001: Identifier expected\r\n",
      "(7,6): error CS1002: ; expected\r\n",
      "(8,4): error CS1001: Identifier expected\r\n",
      "(8,6): error CS1002: ; expected\r\n",
      "(9,4): error CS1001: Identifier expected\r\n",
      "(9,6): error CS1002: ; expected\r\n",
      "(10,4): error CS1001: Identifier expected\r\n",
      "(10,6): error CS1002: ; expected\r\n",
      "(11,4): error CS1001: Identifier expected\r\n",
      "(11,6): error CS1002: ; expected\r\n",
      "(12,5): error CS1001: Identifier expected"
     ]
    }
   ],
   "source": [
    "## This cell has answers. Your answers for the questions above.\n",
    "\n",
    "1. -- //\n",
    "2. -- //System\n",
    "3. -- //Program\n",
    "4. -- //Scope\n",
    "5. -- //void\n",
    "6. -- //Main function defines two parameters  (string[] args)\n",
    "7. -- //Lines 8 and 9 are known as the method\n",
    "8. -- //\"Jerry\" is a string\n",
    "9. -- //WriteLine is found in the Console Class\n",
    "10. --//x is called Jerry"
   ]
  },
  {
   "cell_type": "code",
   "execution_count": 37,
   "metadata": {
    "dotnet_interactive": {
     "language": "csharp"
    },
    "polyglot_notebook": {
     "kernelName": "csharp"
    },
    "vscode": {
     "languageId": "polyglot-notebook"
    }
   },
   "outputs": [],
   "source": []
  },
  {
   "attachments": {},
   "cell_type": "markdown",
   "metadata": {
    "dotnet_interactive": {
     "language": "csharp"
    },
    "polyglot_notebook": {
     "kernelName": "csharp"
    }
   },
   "source": [
    "# All done?\n",
    "\n",
    "When you have completed this notebook, complete the following steps:\n",
    "\n",
    "1. Commit your Changes with a comment - any ole comment.\n",
    "1. Push your Changes back up to GitHub.\n",
    "1. Submit a link to your GitHub repo in Blackboard."
   ]
  }
 ],
 "metadata": {
  "kernelspec": {
   "display_name": ".NET (C#)",
   "language": "C#",
   "name": ".net-csharp"
  },
  "polyglot_notebook": {
   "kernelInfo": {
    "defaultKernelName": "csharp",
    "items": [
     {
      "aliases": [
       "c#",
       "C#"
      ],
      "languageName": "C#",
      "name": "csharp"
     },
     {
      "aliases": [
       "frontend"
      ],
      "name": "vscode"
     },
     {
      "aliases": [],
      "name": ".NET"
     },
     {
      "aliases": [
       "f#",
       "F#"
      ],
      "languageName": "F#",
      "name": "fsharp"
     },
     {
      "aliases": [],
      "languageName": "HTML",
      "name": "html"
     },
     {
      "aliases": [
       "js"
      ],
      "languageName": "JavaScript",
      "name": "javascript"
     },
     {
      "aliases": [],
      "languageName": "KQL",
      "name": "kql"
     },
     {
      "aliases": [],
      "languageName": "Mermaid",
      "name": "mermaid"
     },
     {
      "aliases": [
       "powershell"
      ],
      "languageName": "PowerShell",
      "name": "pwsh"
     },
     {
      "aliases": [],
      "languageName": "SQL",
      "name": "sql"
     },
     {
      "aliases": [],
      "name": "value"
     },
     {
      "aliases": [],
      "name": "webview"
     }
    ]
   }
  }
 },
 "nbformat": 4,
 "nbformat_minor": 2
}
